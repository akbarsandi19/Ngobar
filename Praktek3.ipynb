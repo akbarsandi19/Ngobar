{
  "nbformat": 4,
  "nbformat_minor": 0,
  "metadata": {
    "colab": {
      "provenance": [],
      "authorship_tag": "ABX9TyN0mB60QLOL6b9+K1NtEBxD",
      "include_colab_link": true
    },
    "kernelspec": {
      "name": "python3",
      "display_name": "Python 3"
    },
    "language_info": {
      "name": "python"
    }
  },
  "cells": [
    {
      "cell_type": "markdown",
      "metadata": {
        "id": "view-in-github",
        "colab_type": "text"
      },
      "source": [
        "<a href=\"https://colab.research.google.com/github/akbarsandi19/Ngobar/blob/main/Praktek3.ipynb\" target=\"_parent\"><img src=\"https://colab.research.google.com/assets/colab-badge.svg\" alt=\"Open In Colab\"/></a>"
      ]
    },
    {
      "cell_type": "code",
      "execution_count": null,
      "metadata": {
        "colab": {
          "base_uri": "https://localhost:8080/"
        },
        "id": "5CZkJDP3XxQT",
        "outputId": "1e121bb9-2192-4b8e-cd82-0ed03670d0b0"
      },
      "outputs": [
        {
          "output_type": "stream",
          "name": "stdout",
          "text": [
            "Kalimat gabungan: Hari Ini Adalah Hari Ketiga Kegiatan\n"
          ]
        }
      ],
      "source": [
        "kata1 = \"Hari\"\n",
        "kata2 = \"Ini\"\n",
        "kata3 = \"Adalah\"\n",
        "kata4 = \"Hari\"\n",
        "kata5 = \"Ketiga\"\n",
        "kata6 = \"Kegiatan\"\n",
        "kalimat_gabungan = kata1 + \" \" + kata2 + \" \" + kata3 + \" \" + kata4 + \" \" + kata5 + \" \" + kata6\n",
        "print(\"Kalimat gabungan:\", kalimat_gabungan)"
      ]
    },
    {
      "cell_type": "markdown",
      "source": [
        "Soal 1"
      ],
      "metadata": {
        "id": "wUyvrvdvhI9h"
      }
    },
    {
      "cell_type": "code",
      "source": [
        "kalimat = \"Hari Ini Adalah Hari Ketiga Saya Mengikuti Kegiatan Ngobar\"\n",
        "print(\"6 Karakter pertama:\", kalimat[:6])\n",
        "print(\"5 Karakter Terakhir:\", kalimat[-5:])\n",
        "print(\"Tampilkan Kata Ketiga:\", kalimat[21:28])\n",
        "\n",
        "def balik_kata(teks):\n",
        "  kata = teks.split()\n",
        "  balik = kata[::-1]\n",
        "  return \" \".join(balik)\n",
        "\n",
        "print(balik_kata(kalimat))"
      ],
      "metadata": {
        "colab": {
          "base_uri": "https://localhost:8080/"
        },
        "id": "YJmocl2MZlqK",
        "outputId": "104dfb51-5c1c-427c-885b-8288b2480efb"
      },
      "execution_count": null,
      "outputs": [
        {
          "output_type": "stream",
          "name": "stdout",
          "text": [
            "6 Karakter pertama: Hari I\n",
            "5 Karakter Terakhir: gobar\n",
            "Tampilkan Kata Ketiga: Ketiga \n",
            "Ngobar Kegiatan Mengikuti Saya Ketiga Hari Adalah Ini Hari\n"
          ]
        }
      ]
    },
    {
      "cell_type": "markdown",
      "source": [
        "Soal 2"
      ],
      "metadata": {
        "id": "xULnLloahNw0"
      }
    },
    {
      "cell_type": "code",
      "source": [
        "kata1 = \"Aku\"\n",
        "kata2 = \"Yang\"\n",
        "kata3 = \"Jatuh Cinta\"\n",
        "\n",
        "# Concatenation menggunakan operator +\n",
        "hasil = kata1 + \" \" + kata2 + \" \" + kata3\n",
        "print(hasil)\n",
        "\n",
        "# Concatenation menggunakan f-string (format string)\n",
        "hasil_fstring = f\"{kata1} {kata2} {kata3}\"\n",
        "print(hasil_fstring)\n",
        "\n",
        "# Concatenation menggunakan method join()\n",
        "daftar_kata = [kata1, kata2, kata3]\n",
        "hasil_join = \" \".join(daftar_kata)\n",
        "print(hasil_join)"
      ],
      "metadata": {
        "colab": {
          "base_uri": "https://localhost:8080/"
        },
        "id": "s1EsUpolhQv0",
        "outputId": "1c1a0e26-8dee-4f24-da97-059ab144abca"
      },
      "execution_count": null,
      "outputs": [
        {
          "output_type": "stream",
          "name": "stdout",
          "text": [
            "Aku Yang Jatuh Cinta\n",
            "Aku Yang Jatuh Cinta\n",
            "Aku Yang Jatuh Cinta\n"
          ]
        }
      ]
    },
    {
      "cell_type": "markdown",
      "source": [
        "Soal 3"
      ],
      "metadata": {
        "id": "d3avrOiyhe0G"
      }
    },
    {
      "cell_type": "code",
      "source": [
        "tex_soal=\"aku adalah seorang kapten dari sebuah tim sepak bola liga 3 liga belgia\"\n",
        "def PanjangKarakter(teks):\n",
        "  return len(teks)\n",
        "def Panjangkata(teks):\n",
        "  kata = teks.split()\n",
        "  return len(kata)\n",
        "\n",
        "Jumlah_Karakter = PanjangKarakter(tex_soal)\n",
        "Jumlah_Kata = Panjangkata(tex_soal)\n",
        "\n",
        "print(\"Jumlah Karakter = \",Jumlah_Karakter)\n",
        "print(\"Jumlah Kata =\", Jumlah_Kata)"
      ],
      "metadata": {
        "colab": {
          "base_uri": "https://localhost:8080/"
        },
        "id": "hlccL_Yehh7p",
        "outputId": "9a4e33d8-a2e3-442b-f4cc-4ad482fdb282"
      },
      "execution_count": null,
      "outputs": [
        {
          "output_type": "stream",
          "name": "stdout",
          "text": [
            "Jumlah Karakter =  71\n",
            "Jumlah Kata = 13\n"
          ]
        }
      ]
    }
  ]
}