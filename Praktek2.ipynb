{
  "nbformat": 4,
  "nbformat_minor": 0,
  "metadata": {
    "colab": {
      "provenance": [],
      "authorship_tag": "ABX9TyMfRM7hmHUyM0hMV9pnDOdk",
      "include_colab_link": true
    },
    "kernelspec": {
      "name": "python3",
      "display_name": "Python 3"
    },
    "language_info": {
      "name": "python"
    }
  },
  "cells": [
    {
      "cell_type": "markdown",
      "metadata": {
        "id": "view-in-github",
        "colab_type": "text"
      },
      "source": [
        "<a href=\"https://colab.research.google.com/github/akbarsandi19/Ngobar/blob/main/Praktek2.ipynb\" target=\"_parent\"><img src=\"https://colab.research.google.com/assets/colab-badge.svg\" alt=\"Open In Colab\"/></a>"
      ]
    },
    {
      "cell_type": "code",
      "execution_count": null,
      "metadata": {
        "colab": {
          "base_uri": "https://localhost:8080/"
        },
        "id": "At3KKv__TgFL",
        "outputId": "b49c2a92-abd8-4a79-dc40-060fcd3323bd"
      },
      "outputs": [
        {
          "output_type": "stream",
          "name": "stdout",
          "text": [
            "Hasil perkalian: 42\n",
            "Hasil perkalian: 12\n"
          ]
        }
      ],
      "source": [
        "def perkalian(a, b):  # a dan b adalah parameter\n",
        "    return a * b\n",
        "\n",
        "hasil2 = perkalian(6, 7)\n",
        "hasil3 = perkalian(3, 4)\n",
        "\n",
        "\n",
        "print(\"Hasil perkalian:\", hasil2)\n",
        "print(\"Hasil perkalian:\", hasil3)"
      ]
    },
    {
      "cell_type": "code",
      "source": [
        "def dekorator_kaya(func):\n",
        "    def wrapper(nama):\n",
        "        print(\"Sebelum fungsi dijalankan.\")\n",
        "        func(nama)  # Menjalankan fungsi asli\n",
        "        print(\"Setelah fungsi dijalankan.\")\n",
        "    return wrapper\n",
        "@dekorator_kaya\n",
        "def halo(nama):\n",
        "  print(f\"Halo Dunia: {nama}\")\n",
        "\n",
        "halo(\"Akbar\")"
      ],
      "metadata": {
        "colab": {
          "base_uri": "https://localhost:8080/"
        },
        "id": "ijRajnhJa1vv",
        "outputId": "3acdef3a-f61b-4f3a-dbd0-c8b507f74352"
      },
      "execution_count": null,
      "outputs": [
        {
          "output_type": "stream",
          "name": "stdout",
          "text": [
            "Sebelum fungsi dijalankan.\n",
            "Halo Dunia: Akbar\n",
            "Setelah fungsi dijalankan.\n"
          ]
        }
      ]
    },
    {
      "cell_type": "markdown",
      "source": [],
      "metadata": {
        "id": "Al3N0gM1VxmQ"
      }
    },
    {
      "cell_type": "code",
      "source": [
        "def hitung_luas_persegi_panjang(panjang, lebar=10):\n",
        "  return panjang * lebar\n",
        "\n",
        "# Memanggil fungsi dengan hanya memberikan parameter panjang\n",
        "luas1 = hitung_luas_persegi_panjang(4)\n",
        "print(f\"Luas persegi panjang : {luas1}\")\n",
        "\n",
        "# Memanggil fungsi dengan memberikan kedua parameter\n",
        "luas2 = hitung_luas_persegi_panjang(5, 12)\n",
        "print(f\"Luas persegi panjang : {luas2}\")"
      ],
      "metadata": {
        "colab": {
          "base_uri": "https://localhost:8080/"
        },
        "id": "OJ8ZFgVKiW_a",
        "outputId": "2dea947e-37d7-42b3-f67e-1ce04fb9f69c"
      },
      "execution_count": null,
      "outputs": [
        {
          "output_type": "stream",
          "name": "stdout",
          "text": [
            "Luas persegi panjang : 40\n",
            "Luas persegi panjang : 60\n"
          ]
        }
      ]
    }
  ]
}