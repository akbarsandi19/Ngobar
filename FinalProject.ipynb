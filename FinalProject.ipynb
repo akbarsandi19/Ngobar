{
  "nbformat": 4,
  "nbformat_minor": 0,
  "metadata": {
    "colab": {
      "provenance": [],
      "authorship_tag": "ABX9TyMOHH8LPwVDP+UpFfTqMhYi",
      "include_colab_link": true
    },
    "kernelspec": {
      "name": "python3",
      "display_name": "Python 3"
    },
    "language_info": {
      "name": "python"
    }
  },
  "cells": [
    {
      "cell_type": "markdown",
      "metadata": {
        "id": "view-in-github",
        "colab_type": "text"
      },
      "source": [
        "<a href=\"https://colab.research.google.com/github/akbarsandi19/Ngobar/blob/main/FinalProject.ipynb\" target=\"_parent\"><img src=\"https://colab.research.google.com/assets/colab-badge.svg\" alt=\"Open In Colab\"/></a>"
      ]
    },
    {
      "cell_type": "code",
      "execution_count": null,
      "metadata": {
        "colab": {
          "base_uri": "https://localhost:8080/"
        },
        "id": "5fLkd4REjtlk",
        "outputId": "23d728e3-40d1-4936-a703-cb7ec4f6ad2f"
      },
      "outputs": [
        {
          "output_type": "stream",
          "name": "stdout",
          "text": [
            "\n",
            "Menu:\n",
            "1. Tambah data siswa\n",
            "2. Tampilkan semua data siswa\n",
            "3. Cari siswa berdasarkan NIM\n",
            "4. Hitung rata-rata nilai\n",
            "5. Keluar\n",
            "Masukkan pilihan Anda: 1\n",
            "Masukkan nama siswa: Hafid\n",
            "Masukkan NIM siswa: 3420220006\n",
            "Masukkan jurusan siswa: Teknik Informatika\n",
            "Masukkan nilai siswa: 98\n",
            "\n",
            "Menu:\n",
            "1. Tambah data siswa\n",
            "2. Tampilkan semua data siswa\n",
            "3. Cari siswa berdasarkan NIM\n",
            "4. Hitung rata-rata nilai\n",
            "5. Keluar\n",
            "Masukkan pilihan Anda: 1\n",
            "Masukkan nama siswa: Ramdika\n",
            "Masukkan NIM siswa: 3420230027\n",
            "Masukkan jurusan siswa: Teknik Informatika\n",
            "Masukkan nilai siswa: 90\n",
            "\n",
            "Menu:\n",
            "1. Tambah data siswa\n",
            "2. Tampilkan semua data siswa\n",
            "3. Cari siswa berdasarkan NIM\n",
            "4. Hitung rata-rata nilai\n",
            "5. Keluar\n",
            "Masukkan pilihan Anda: 2\n",
            "Nama: Hafid, NIM: 3420220006, Jurusan: Teknik Informatika, Nilai: 98.0\n",
            "Nama: Ramdika, NIM: 3420230027, Jurusan: Teknik Informatika, Nilai: 90.0\n",
            "\n",
            "Menu:\n",
            "1. Tambah data siswa\n",
            "2. Tampilkan semua data siswa\n",
            "3. Cari siswa berdasarkan NIM\n",
            "4. Hitung rata-rata nilai\n",
            "5. Keluar\n",
            "Masukkan pilihan Anda: 4\n",
            "Rata-rata nilai siswa: 94.0\n",
            "\n",
            "Menu:\n",
            "1. Tambah data siswa\n",
            "2. Tampilkan semua data siswa\n",
            "3. Cari siswa berdasarkan NIM\n",
            "4. Hitung rata-rata nilai\n",
            "5. Keluar\n"
          ]
        }
      ],
      "source": [
        "import numpy as np\n",
        "\n",
        "def input_data_siswa():\n",
        "  nama = input(\"Masukkan nama siswa: \")\n",
        "  nim = input(\"Masukkan NIM siswa: \")\n",
        "  jurusan = input(\"Masukkan jurusan siswa: \")\n",
        "  nilai = float(input(\"Masukkan nilai siswa: \"))\n",
        "  return {\"nama\": nama, \"nim\": nim, \"jurusan\": jurusan, \"nilai\": nilai}\n",
        "\n",
        "def tampilkan_data_siswa(data_siswa):\n",
        "  if not data_siswa:\n",
        "    print(\"Belum ada data siswa yang dimasukkan.\")\n",
        "    return\n",
        "  for siswa in data_siswa:\n",
        "    print(f\"Nama: {siswa['nama']}, NIM: {siswa['nim']}, Jurusan: {siswa['jurusan']}, Nilai: {siswa['nilai']}\")\n",
        "\n",
        "def cari_siswa(data_siswa, nim):\n",
        "  for siswa in data_siswa:\n",
        "    if siswa[\"nim\"] == nim:\n",
        "      print(f\"Nama: {siswa['nama']}, NIM: {siswa['nim']}, Jurusan: {siswa['jurusan']}, Nilai: {siswa['nilai']}\")\n",
        "      return\n",
        "  print(\"Siswa tidak ditemukan.\")\n",
        "\n",
        "def hitung_rata_rata_nilai(data_siswa):\n",
        "  if not data_siswa:\n",
        "    print(\"Belum ada data siswa yang dimasukkan.\")\n",
        "    return 0\n",
        "  total_nilai = sum(siswa['nilai'] for siswa in data_siswa)\n",
        "  return total_nilai / len(data_siswa)\n",
        "\n",
        "data_siswa = []\n",
        "\n",
        "while True:\n",
        "  print(\"\\nMenu:\")\n",
        "  print(\"1. Tambah data siswa\")\n",
        "  print(\"2. Tampilkan semua data siswa\")\n",
        "  print(\"3. Cari siswa berdasarkan NIM\")\n",
        "  print(\"4. Hitung rata-rata nilai\")\n",
        "  print(\"5. Keluar\")\n",
        "\n",
        "  pilihan = input(\"Masukkan pilihan Anda: \")\n",
        "\n",
        "  if pilihan == \"1\":\n",
        "    data_siswa.append(input_data_siswa())\n",
        "  elif pilihan == \"2\":\n",
        "    tampilkan_data_siswa(data_siswa)\n",
        "  elif pilihan == \"3\":\n",
        "    nim = input(\"Masukkan NIM siswa yang dicari: \")\n",
        "    cari_siswa(data_siswa, nim)\n",
        "  elif pilihan == \"4\":\n",
        "    rata_rata = hitung_rata_rata_nilai(data_siswa)\n",
        "    if rata_rata != 0:\n",
        "        print(f\"Rata-rata nilai siswa: {rata_rata}\")\n",
        "  elif pilihan == \"5\":\n",
        "    break\n",
        "  else:\n",
        "    print(\"Pilihan tidak valid.\")"
      ]
    }
  ]
}